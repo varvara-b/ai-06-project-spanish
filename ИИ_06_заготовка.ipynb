{
  "nbformat": 4,
  "nbformat_minor": 0,
  "metadata": {
    "colab": {
      "provenance": []
    },
    "kernelspec": {
      "name": "python3",
      "display_name": "Python 3"
    },
    "language_info": {
      "name": "python"
    }
  },
  "cells": [
    {
      "cell_type": "code",
      "execution_count": null,
      "metadata": {
        "id": "uJAARhHSjH3V"
      },
      "outputs": [],
      "source": [
        "import io\n",
        "import streamlit as st\n",
        "\n",
        "from transformers import pipeline\n",
        "from PIL import Image\n",
        "\n",
        "\n",
        "def load_image():\n",
        "\n",
        "    uploaded_file = st.file_uploader(label='Выберите изображение для распознавания')\n",
        "    if uploaded_file is not None:\n",
        "        image_data = uploaded_file.getvalue()\n",
        "        st.image(image_data)\n",
        "        return Image.open(io.BytesIO(image_data))\n",
        "    else:\n",
        "        return None\n",
        "\n",
        "\n",
        "st.title('Распознай испанский текст с изображения!')\n",
        "img = load_image()\n",
        "\n",
        "result = st.button('Распознать изображение')\n",
        "if result:\n",
        "    captioner = pipeline(\"image-to-text\", \"\")  # в кавычках нужно указать название модели\n",
        "    text = captioner(img)\n",
        "    st.write('Результаты распознавания:')\n",
        "    st.write(text[0][\"generated_text\"])"
      ]
    }
  ]
}